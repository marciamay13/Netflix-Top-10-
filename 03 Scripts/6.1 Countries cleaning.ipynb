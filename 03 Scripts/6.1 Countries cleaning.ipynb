{
 "cells": [
  {
   "cell_type": "markdown",
   "id": "f442f952",
   "metadata": {},
   "source": [
    "# 01. Importing Libraries"
   ]
  },
  {
   "cell_type": "code",
   "execution_count": 1,
   "id": "b20527d9",
   "metadata": {},
   "outputs": [],
   "source": [
    "# Import libraries\n",
    "import pandas as pd\n",
    "import numpy as np\n",
    "import os"
   ]
  },
  {
   "cell_type": "markdown",
   "id": "2cc53151",
   "metadata": {},
   "source": [
    "# 02. Importing Data"
   ]
  },
  {
   "cell_type": "code",
   "execution_count": 2,
   "id": "97243385",
   "metadata": {},
   "outputs": [],
   "source": [
    "path = r'C:\\Users\\marci\\OneDrive\\Desktop\\Career Foundary\\Netflix'"
   ]
  },
  {
   "cell_type": "code",
   "execution_count": 3,
   "id": "5d6f0d62",
   "metadata": {
    "scrolled": true
   },
   "outputs": [],
   "source": [
    "# importing countries_all.csv\n",
    "\n",
    "df = pd.read_csv(os.path.join(path, '02 Data', 'Original Data', 'countries_all.csv'), index_col = False)"
   ]
  },
  {
   "cell_type": "markdown",
   "id": "ef334fdf",
   "metadata": {},
   "source": [
    "# 03. Displaying Data"
   ]
  },
  {
   "cell_type": "code",
   "execution_count": 4,
   "id": "8b2ba3df",
   "metadata": {},
   "outputs": [
    {
     "data": {
      "text/html": [
       "<div>\n",
       "<style scoped>\n",
       "    .dataframe tbody tr th:only-of-type {\n",
       "        vertical-align: middle;\n",
       "    }\n",
       "\n",
       "    .dataframe tbody tr th {\n",
       "        vertical-align: top;\n",
       "    }\n",
       "\n",
       "    .dataframe thead th {\n",
       "        text-align: right;\n",
       "    }\n",
       "</style>\n",
       "<table border=\"1\" class=\"dataframe\">\n",
       "  <thead>\n",
       "    <tr style=\"text-align: right;\">\n",
       "      <th></th>\n",
       "      <th>country_name</th>\n",
       "      <th>country_iso2</th>\n",
       "      <th>week</th>\n",
       "      <th>category</th>\n",
       "      <th>weekly_rank</th>\n",
       "      <th>show_title</th>\n",
       "      <th>season_title</th>\n",
       "      <th>cumulative_weeks_in_top_10</th>\n",
       "    </tr>\n",
       "  </thead>\n",
       "  <tbody>\n",
       "    <tr>\n",
       "      <th>0</th>\n",
       "      <td>Argentina</td>\n",
       "      <td>AR</td>\n",
       "      <td>3/17/2024</td>\n",
       "      <td>Films</td>\n",
       "      <td>1</td>\n",
       "      <td>Damsel</td>\n",
       "      <td>NaN</td>\n",
       "      <td>2</td>\n",
       "    </tr>\n",
       "    <tr>\n",
       "      <th>1</th>\n",
       "      <td>Argentina</td>\n",
       "      <td>AR</td>\n",
       "      <td>3/17/2024</td>\n",
       "      <td>Films</td>\n",
       "      <td>2</td>\n",
       "      <td>Irish Wish</td>\n",
       "      <td>NaN</td>\n",
       "      <td>1</td>\n",
       "    </tr>\n",
       "    <tr>\n",
       "      <th>2</th>\n",
       "      <td>Argentina</td>\n",
       "      <td>AR</td>\n",
       "      <td>3/17/2024</td>\n",
       "      <td>Films</td>\n",
       "      <td>3</td>\n",
       "      <td>Art of Love</td>\n",
       "      <td>NaN</td>\n",
       "      <td>1</td>\n",
       "    </tr>\n",
       "    <tr>\n",
       "      <th>3</th>\n",
       "      <td>Argentina</td>\n",
       "      <td>AR</td>\n",
       "      <td>3/17/2024</td>\n",
       "      <td>Films</td>\n",
       "      <td>4</td>\n",
       "      <td>White Boy Rick</td>\n",
       "      <td>NaN</td>\n",
       "      <td>2</td>\n",
       "    </tr>\n",
       "    <tr>\n",
       "      <th>4</th>\n",
       "      <td>Argentina</td>\n",
       "      <td>AR</td>\n",
       "      <td>3/17/2024</td>\n",
       "      <td>Films</td>\n",
       "      <td>5</td>\n",
       "      <td>Dr. Seuss' The Grinch</td>\n",
       "      <td>NaN</td>\n",
       "      <td>2</td>\n",
       "    </tr>\n",
       "  </tbody>\n",
       "</table>\n",
       "</div>"
      ],
      "text/plain": [
       "  country_name country_iso2       week category  weekly_rank  \\\n",
       "0    Argentina           AR  3/17/2024    Films            1   \n",
       "1    Argentina           AR  3/17/2024    Films            2   \n",
       "2    Argentina           AR  3/17/2024    Films            3   \n",
       "3    Argentina           AR  3/17/2024    Films            4   \n",
       "4    Argentina           AR  3/17/2024    Films            5   \n",
       "\n",
       "              show_title season_title  cumulative_weeks_in_top_10  \n",
       "0                 Damsel          NaN                           2  \n",
       "1             Irish Wish          NaN                           1  \n",
       "2            Art of Love          NaN                           1  \n",
       "3         White Boy Rick          NaN                           2  \n",
       "4  Dr. Seuss' The Grinch          NaN                           2  "
      ]
     },
     "execution_count": 4,
     "metadata": {},
     "output_type": "execute_result"
    }
   ],
   "source": [
    "# Showing the first 5 rows of data\n",
    "df.head()"
   ]
  },
  {
   "cell_type": "code",
   "execution_count": 5,
   "id": "3f118823",
   "metadata": {},
   "outputs": [
    {
     "data": {
      "text/plain": [
       "(264820, 8)"
      ]
     },
     "execution_count": 5,
     "metadata": {},
     "output_type": "execute_result"
    }
   ],
   "source": [
    "#Checking the size\n",
    "df.shape"
   ]
  },
  {
   "cell_type": "code",
   "execution_count": 6,
   "id": "2824b91b",
   "metadata": {},
   "outputs": [
    {
     "data": {
      "text/plain": [
       "Index(['country_name', 'country_iso2', 'week', 'category', 'weekly_rank',\n",
       "       'show_title', 'season_title', 'cumulative_weeks_in_top_10'],\n",
       "      dtype='object')"
      ]
     },
     "execution_count": 6,
     "metadata": {},
     "output_type": "execute_result"
    }
   ],
   "source": [
    "#Displaying column names\n",
    "df.columns"
   ]
  },
  {
   "cell_type": "code",
   "execution_count": 7,
   "id": "1967e3eb",
   "metadata": {},
   "outputs": [
    {
     "data": {
      "text/plain": [
       "country_name                  object\n",
       "country_iso2                  object\n",
       "week                          object\n",
       "category                      object\n",
       "weekly_rank                    int64\n",
       "show_title                    object\n",
       "season_title                  object\n",
       "cumulative_weeks_in_top_10     int64\n",
       "dtype: object"
      ]
     },
     "execution_count": 7,
     "metadata": {},
     "output_type": "execute_result"
    }
   ],
   "source": [
    "#Data types\n",
    "df.dtypes"
   ]
  },
  {
   "cell_type": "markdown",
   "id": "5f19d0f0",
   "metadata": {},
   "source": [
    "# 04. Consistency Checks"
   ]
  },
  {
   "cell_type": "code",
   "execution_count": 8,
   "id": "3ab90020",
   "metadata": {},
   "outputs": [
    {
     "name": "stdout",
     "output_type": "stream",
     "text": [
      "season_title\n"
     ]
    }
   ],
   "source": [
    "# finding mixed-type columns\n",
    "for col in df.columns.tolist():\n",
    "  weird = (df[[col]].map(type) != df[[col]].iloc[0].apply(type)).any(axis = 1)\n",
    "  if len (df[weird]) > 0:\n",
    "    print (col)"
   ]
  },
  {
   "cell_type": "code",
   "execution_count": 9,
   "id": "99e18514",
   "metadata": {},
   "outputs": [],
   "source": [
    "#Changing the mixed type data column to 'str'\n",
    "df['season_title'] = df['season_title'].astype('str')"
   ]
  },
  {
   "cell_type": "code",
   "execution_count": 10,
   "id": "a4f44545",
   "metadata": {},
   "outputs": [
    {
     "data": {
      "text/plain": [
       "dtype('O')"
      ]
     },
     "execution_count": 10,
     "metadata": {},
     "output_type": "execute_result"
    }
   ],
   "source": [
    "#Check to verify the data type changed\n",
    "df['season_title'].dtypes"
   ]
  },
  {
   "cell_type": "code",
   "execution_count": 12,
   "id": "9da13f59",
   "metadata": {},
   "outputs": [
    {
     "data": {
      "text/plain": [
       "country_name                  0\n",
       "country_iso2                  0\n",
       "week                          0\n",
       "category                      0\n",
       "weekly_rank                   0\n",
       "show_title                    0\n",
       "season_title                  0\n",
       "cumulative_weeks_in_top_10    0\n",
       "dtype: int64"
      ]
     },
     "execution_count": 12,
     "metadata": {},
     "output_type": "execute_result"
    }
   ],
   "source": [
    "#Finding missing values\n",
    "df.isnull().sum()"
   ]
  },
  {
   "cell_type": "markdown",
   "id": "dac078b2",
   "metadata": {},
   "source": [
    "No Missing values"
   ]
  },
  {
   "cell_type": "code",
   "execution_count": 14,
   "id": "ba787fd9",
   "metadata": {},
   "outputs": [],
   "source": [
    "# Checking for duplicates\n",
    "df_dups = df[df.duplicated()]"
   ]
  },
  {
   "cell_type": "code",
   "execution_count": 15,
   "id": "02d24e98",
   "metadata": {},
   "outputs": [
    {
     "data": {
      "text/html": [
       "<div>\n",
       "<style scoped>\n",
       "    .dataframe tbody tr th:only-of-type {\n",
       "        vertical-align: middle;\n",
       "    }\n",
       "\n",
       "    .dataframe tbody tr th {\n",
       "        vertical-align: top;\n",
       "    }\n",
       "\n",
       "    .dataframe thead th {\n",
       "        text-align: right;\n",
       "    }\n",
       "</style>\n",
       "<table border=\"1\" class=\"dataframe\">\n",
       "  <thead>\n",
       "    <tr style=\"text-align: right;\">\n",
       "      <th></th>\n",
       "      <th>country_name</th>\n",
       "      <th>country_iso2</th>\n",
       "      <th>week</th>\n",
       "      <th>category</th>\n",
       "      <th>weekly_rank</th>\n",
       "      <th>show_title</th>\n",
       "      <th>season_title</th>\n",
       "      <th>cumulative_weeks_in_top_10</th>\n",
       "    </tr>\n",
       "  </thead>\n",
       "  <tbody>\n",
       "  </tbody>\n",
       "</table>\n",
       "</div>"
      ],
      "text/plain": [
       "Empty DataFrame\n",
       "Columns: [country_name, country_iso2, week, category, weekly_rank, show_title, season_title, cumulative_weeks_in_top_10]\n",
       "Index: []"
      ]
     },
     "execution_count": 15,
     "metadata": {},
     "output_type": "execute_result"
    }
   ],
   "source": [
    "df_dups"
   ]
  },
  {
   "cell_type": "markdown",
   "id": "5e3561d2",
   "metadata": {},
   "source": [
    "No Duplicates found"
   ]
  },
  {
   "cell_type": "code",
   "execution_count": 16,
   "id": "1423226c",
   "metadata": {},
   "outputs": [
    {
     "data": {
      "text/html": [
       "<div>\n",
       "<style scoped>\n",
       "    .dataframe tbody tr th:only-of-type {\n",
       "        vertical-align: middle;\n",
       "    }\n",
       "\n",
       "    .dataframe tbody tr th {\n",
       "        vertical-align: top;\n",
       "    }\n",
       "\n",
       "    .dataframe thead th {\n",
       "        text-align: right;\n",
       "    }\n",
       "</style>\n",
       "<table border=\"1\" class=\"dataframe\">\n",
       "  <thead>\n",
       "    <tr style=\"text-align: right;\">\n",
       "      <th></th>\n",
       "      <th>country_name</th>\n",
       "      <th>week</th>\n",
       "      <th>category</th>\n",
       "      <th>weekly_rank</th>\n",
       "      <th>show_title</th>\n",
       "      <th>season_title</th>\n",
       "      <th>cumulative_weeks_in_top_10</th>\n",
       "    </tr>\n",
       "  </thead>\n",
       "  <tbody>\n",
       "    <tr>\n",
       "      <th>0</th>\n",
       "      <td>Argentina</td>\n",
       "      <td>3/17/2024</td>\n",
       "      <td>Films</td>\n",
       "      <td>1</td>\n",
       "      <td>Damsel</td>\n",
       "      <td>nan</td>\n",
       "      <td>2</td>\n",
       "    </tr>\n",
       "    <tr>\n",
       "      <th>1</th>\n",
       "      <td>Argentina</td>\n",
       "      <td>3/17/2024</td>\n",
       "      <td>Films</td>\n",
       "      <td>2</td>\n",
       "      <td>Irish Wish</td>\n",
       "      <td>nan</td>\n",
       "      <td>1</td>\n",
       "    </tr>\n",
       "    <tr>\n",
       "      <th>2</th>\n",
       "      <td>Argentina</td>\n",
       "      <td>3/17/2024</td>\n",
       "      <td>Films</td>\n",
       "      <td>3</td>\n",
       "      <td>Art of Love</td>\n",
       "      <td>nan</td>\n",
       "      <td>1</td>\n",
       "    </tr>\n",
       "    <tr>\n",
       "      <th>3</th>\n",
       "      <td>Argentina</td>\n",
       "      <td>3/17/2024</td>\n",
       "      <td>Films</td>\n",
       "      <td>4</td>\n",
       "      <td>White Boy Rick</td>\n",
       "      <td>nan</td>\n",
       "      <td>2</td>\n",
       "    </tr>\n",
       "    <tr>\n",
       "      <th>4</th>\n",
       "      <td>Argentina</td>\n",
       "      <td>3/17/2024</td>\n",
       "      <td>Films</td>\n",
       "      <td>5</td>\n",
       "      <td>Dr. Seuss' The Grinch</td>\n",
       "      <td>nan</td>\n",
       "      <td>2</td>\n",
       "    </tr>\n",
       "    <tr>\n",
       "      <th>...</th>\n",
       "      <td>...</td>\n",
       "      <td>...</td>\n",
       "      <td>...</td>\n",
       "      <td>...</td>\n",
       "      <td>...</td>\n",
       "      <td>...</td>\n",
       "      <td>...</td>\n",
       "    </tr>\n",
       "    <tr>\n",
       "      <th>264815</th>\n",
       "      <td>Vietnam</td>\n",
       "      <td>7/4/2021</td>\n",
       "      <td>TV</td>\n",
       "      <td>6</td>\n",
       "      <td>Reply 1988</td>\n",
       "      <td>Reply 1988: Season 1</td>\n",
       "      <td>1</td>\n",
       "    </tr>\n",
       "    <tr>\n",
       "      <th>264816</th>\n",
       "      <td>Vietnam</td>\n",
       "      <td>7/4/2021</td>\n",
       "      <td>TV</td>\n",
       "      <td>7</td>\n",
       "      <td>Nevertheless,</td>\n",
       "      <td>Nevertheless,: Limited Series</td>\n",
       "      <td>1</td>\n",
       "    </tr>\n",
       "    <tr>\n",
       "      <th>264817</th>\n",
       "      <td>Vietnam</td>\n",
       "      <td>7/4/2021</td>\n",
       "      <td>TV</td>\n",
       "      <td>8</td>\n",
       "      <td>Too Hot to Handle</td>\n",
       "      <td>Too Hot to Handle: Season 2</td>\n",
       "      <td>1</td>\n",
       "    </tr>\n",
       "    <tr>\n",
       "      <th>264818</th>\n",
       "      <td>Vietnam</td>\n",
       "      <td>7/4/2021</td>\n",
       "      <td>TV</td>\n",
       "      <td>9</td>\n",
       "      <td>Record of Ragnarok</td>\n",
       "      <td>Record of Ragnarok: Season 1</td>\n",
       "      <td>1</td>\n",
       "    </tr>\n",
       "    <tr>\n",
       "      <th>264819</th>\n",
       "      <td>Vietnam</td>\n",
       "      <td>7/4/2021</td>\n",
       "      <td>TV</td>\n",
       "      <td>10</td>\n",
       "      <td>Crash Landing on You</td>\n",
       "      <td>Crash Landing on You: Season 1</td>\n",
       "      <td>1</td>\n",
       "    </tr>\n",
       "  </tbody>\n",
       "</table>\n",
       "<p>264820 rows × 7 columns</p>\n",
       "</div>"
      ],
      "text/plain": [
       "       country_name       week category  weekly_rank             show_title  \\\n",
       "0         Argentina  3/17/2024    Films            1                 Damsel   \n",
       "1         Argentina  3/17/2024    Films            2             Irish Wish   \n",
       "2         Argentina  3/17/2024    Films            3            Art of Love   \n",
       "3         Argentina  3/17/2024    Films            4         White Boy Rick   \n",
       "4         Argentina  3/17/2024    Films            5  Dr. Seuss' The Grinch   \n",
       "...             ...        ...      ...          ...                    ...   \n",
       "264815      Vietnam   7/4/2021       TV            6             Reply 1988   \n",
       "264816      Vietnam   7/4/2021       TV            7          Nevertheless,   \n",
       "264817      Vietnam   7/4/2021       TV            8      Too Hot to Handle   \n",
       "264818      Vietnam   7/4/2021       TV            9     Record of Ragnarok   \n",
       "264819      Vietnam   7/4/2021       TV           10   Crash Landing on You   \n",
       "\n",
       "                          season_title  cumulative_weeks_in_top_10  \n",
       "0                                  nan                           2  \n",
       "1                                  nan                           1  \n",
       "2                                  nan                           1  \n",
       "3                                  nan                           2  \n",
       "4                                  nan                           2  \n",
       "...                                ...                         ...  \n",
       "264815            Reply 1988: Season 1                           1  \n",
       "264816   Nevertheless,: Limited Series                           1  \n",
       "264817     Too Hot to Handle: Season 2                           1  \n",
       "264818    Record of Ragnarok: Season 1                           1  \n",
       "264819  Crash Landing on You: Season 1                           1  \n",
       "\n",
       "[264820 rows x 7 columns]"
      ]
     },
     "execution_count": 16,
     "metadata": {},
     "output_type": "execute_result"
    }
   ],
   "source": [
    "#Dropping the 'couintry_ios2' as it is no necessary\n",
    "df.drop(columns = ['country_iso2'])"
   ]
  },
  {
   "cell_type": "code",
   "execution_count": 18,
   "id": "a2b424cd",
   "metadata": {},
   "outputs": [],
   "source": [
    "#creating a new dataframe without the 'country_iso2' column\n",
    "df2 = df.drop(columns = ['country_iso2'])"
   ]
  },
  {
   "cell_type": "code",
   "execution_count": 19,
   "id": "b23d194e",
   "metadata": {},
   "outputs": [
    {
     "data": {
      "text/plain": [
       "Index(['country_name', 'week', 'category', 'weekly_rank', 'show_title',\n",
       "       'season_title', 'cumulative_weeks_in_top_10'],\n",
       "      dtype='object')"
      ]
     },
     "execution_count": 19,
     "metadata": {},
     "output_type": "execute_result"
    }
   ],
   "source": [
    "#Checking to make sure the column was dropped\n",
    "df2.columns"
   ]
  },
  {
   "cell_type": "code",
   "execution_count": 20,
   "id": "69fbb665",
   "metadata": {
    "scrolled": true
   },
   "outputs": [
    {
     "data": {
      "text/html": [
       "<div>\n",
       "<style scoped>\n",
       "    .dataframe tbody tr th:only-of-type {\n",
       "        vertical-align: middle;\n",
       "    }\n",
       "\n",
       "    .dataframe tbody tr th {\n",
       "        vertical-align: top;\n",
       "    }\n",
       "\n",
       "    .dataframe thead th {\n",
       "        text-align: right;\n",
       "    }\n",
       "</style>\n",
       "<table border=\"1\" class=\"dataframe\">\n",
       "  <thead>\n",
       "    <tr style=\"text-align: right;\">\n",
       "      <th></th>\n",
       "      <th>country_name</th>\n",
       "      <th>week</th>\n",
       "      <th>category</th>\n",
       "      <th>weekly_rank</th>\n",
       "      <th>show_title</th>\n",
       "      <th>season_title</th>\n",
       "      <th>cumulative_weeks_in_top_10</th>\n",
       "    </tr>\n",
       "  </thead>\n",
       "  <tbody>\n",
       "    <tr>\n",
       "      <th>0</th>\n",
       "      <td>Argentina</td>\n",
       "      <td>3/17/2024</td>\n",
       "      <td>Films</td>\n",
       "      <td>1</td>\n",
       "      <td>Damsel</td>\n",
       "      <td>nan</td>\n",
       "      <td>2</td>\n",
       "    </tr>\n",
       "    <tr>\n",
       "      <th>1</th>\n",
       "      <td>Argentina</td>\n",
       "      <td>3/17/2024</td>\n",
       "      <td>Films</td>\n",
       "      <td>2</td>\n",
       "      <td>Irish Wish</td>\n",
       "      <td>nan</td>\n",
       "      <td>1</td>\n",
       "    </tr>\n",
       "    <tr>\n",
       "      <th>2</th>\n",
       "      <td>Argentina</td>\n",
       "      <td>3/17/2024</td>\n",
       "      <td>Films</td>\n",
       "      <td>3</td>\n",
       "      <td>Art of Love</td>\n",
       "      <td>nan</td>\n",
       "      <td>1</td>\n",
       "    </tr>\n",
       "    <tr>\n",
       "      <th>3</th>\n",
       "      <td>Argentina</td>\n",
       "      <td>3/17/2024</td>\n",
       "      <td>Films</td>\n",
       "      <td>4</td>\n",
       "      <td>White Boy Rick</td>\n",
       "      <td>nan</td>\n",
       "      <td>2</td>\n",
       "    </tr>\n",
       "    <tr>\n",
       "      <th>4</th>\n",
       "      <td>Argentina</td>\n",
       "      <td>3/17/2024</td>\n",
       "      <td>Films</td>\n",
       "      <td>5</td>\n",
       "      <td>Dr. Seuss' The Grinch</td>\n",
       "      <td>nan</td>\n",
       "      <td>2</td>\n",
       "    </tr>\n",
       "  </tbody>\n",
       "</table>\n",
       "</div>"
      ],
      "text/plain": [
       "  country_name       week category  weekly_rank             show_title  \\\n",
       "0    Argentina  3/17/2024    Films            1                 Damsel   \n",
       "1    Argentina  3/17/2024    Films            2             Irish Wish   \n",
       "2    Argentina  3/17/2024    Films            3            Art of Love   \n",
       "3    Argentina  3/17/2024    Films            4         White Boy Rick   \n",
       "4    Argentina  3/17/2024    Films            5  Dr. Seuss' The Grinch   \n",
       "\n",
       "  season_title  cumulative_weeks_in_top_10  \n",
       "0          nan                           2  \n",
       "1          nan                           1  \n",
       "2          nan                           1  \n",
       "3          nan                           2  \n",
       "4          nan                           2  "
      ]
     },
     "execution_count": 20,
     "metadata": {},
     "output_type": "execute_result"
    }
   ],
   "source": [
    "df2.head()"
   ]
  },
  {
   "cell_type": "code",
   "execution_count": 21,
   "id": "32693e6f",
   "metadata": {},
   "outputs": [
    {
     "data": {
      "text/html": [
       "<div>\n",
       "<style scoped>\n",
       "    .dataframe tbody tr th:only-of-type {\n",
       "        vertical-align: middle;\n",
       "    }\n",
       "\n",
       "    .dataframe tbody tr th {\n",
       "        vertical-align: top;\n",
       "    }\n",
       "\n",
       "    .dataframe thead th {\n",
       "        text-align: right;\n",
       "    }\n",
       "</style>\n",
       "<table border=\"1\" class=\"dataframe\">\n",
       "  <thead>\n",
       "    <tr style=\"text-align: right;\">\n",
       "      <th></th>\n",
       "      <th>weekly_rank</th>\n",
       "      <th>cumulative_weeks_in_top_10</th>\n",
       "    </tr>\n",
       "  </thead>\n",
       "  <tbody>\n",
       "    <tr>\n",
       "      <th>count</th>\n",
       "      <td>264820.000000</td>\n",
       "      <td>264820.000000</td>\n",
       "    </tr>\n",
       "    <tr>\n",
       "      <th>mean</th>\n",
       "      <td>5.500000</td>\n",
       "      <td>3.500555</td>\n",
       "    </tr>\n",
       "    <tr>\n",
       "      <th>std</th>\n",
       "      <td>2.872287</td>\n",
       "      <td>6.647878</td>\n",
       "    </tr>\n",
       "    <tr>\n",
       "      <th>min</th>\n",
       "      <td>1.000000</td>\n",
       "      <td>1.000000</td>\n",
       "    </tr>\n",
       "    <tr>\n",
       "      <th>25%</th>\n",
       "      <td>3.000000</td>\n",
       "      <td>1.000000</td>\n",
       "    </tr>\n",
       "    <tr>\n",
       "      <th>50%</th>\n",
       "      <td>5.500000</td>\n",
       "      <td>2.000000</td>\n",
       "    </tr>\n",
       "    <tr>\n",
       "      <th>75%</th>\n",
       "      <td>8.000000</td>\n",
       "      <td>3.000000</td>\n",
       "    </tr>\n",
       "    <tr>\n",
       "      <th>max</th>\n",
       "      <td>10.000000</td>\n",
       "      <td>113.000000</td>\n",
       "    </tr>\n",
       "  </tbody>\n",
       "</table>\n",
       "</div>"
      ],
      "text/plain": [
       "         weekly_rank  cumulative_weeks_in_top_10\n",
       "count  264820.000000               264820.000000\n",
       "mean        5.500000                    3.500555\n",
       "std         2.872287                    6.647878\n",
       "min         1.000000                    1.000000\n",
       "25%         3.000000                    1.000000\n",
       "50%         5.500000                    2.000000\n",
       "75%         8.000000                    3.000000\n",
       "max        10.000000                  113.000000"
      ]
     },
     "execution_count": 21,
     "metadata": {},
     "output_type": "execute_result"
    }
   ],
   "source": [
    "df2.describe()"
   ]
  },
  {
   "cell_type": "code",
   "execution_count": 23,
   "id": "7cde4b19",
   "metadata": {},
   "outputs": [],
   "source": [
    "#Exporting dataframe as a pkl\n",
    "df2.to_pickle(os.path.join(path, '02 Data','Prepared Data', 'countries_cleaned.pkl'))"
   ]
  },
  {
   "cell_type": "code",
   "execution_count": null,
   "id": "c2359ff4",
   "metadata": {},
   "outputs": [],
   "source": []
  }
 ],
 "metadata": {
  "kernelspec": {
   "display_name": "Python 3 (ipykernel)",
   "language": "python",
   "name": "python3"
  },
  "language_info": {
   "codemirror_mode": {
    "name": "ipython",
    "version": 3
   },
   "file_extension": ".py",
   "mimetype": "text/x-python",
   "name": "python",
   "nbconvert_exporter": "python",
   "pygments_lexer": "ipython3",
   "version": "3.11.5"
  }
 },
 "nbformat": 4,
 "nbformat_minor": 5
}
