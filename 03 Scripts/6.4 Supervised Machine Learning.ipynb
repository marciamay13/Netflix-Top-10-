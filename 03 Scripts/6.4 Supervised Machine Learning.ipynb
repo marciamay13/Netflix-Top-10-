{
 "cells": [
  {
   "cell_type": "markdown",
   "id": "1ad54e17",
   "metadata": {},
   "source": [
    "### Intro\n",
    "#### This script will evaluate the relationship between the number of weekly hours a program has been viewed and the programs weekly rank. I believe there will be a correlation between the two causing the weekly rank to be higher (closer to 1) as the numbr of hours a program is viewed increases. Each week Netflix has a top 10 of their most watched shows and movies. This data contains information for each week globally from 2021- present day. \n",
    "\n",
    "#### Hypothesis: If the number of weekly hours a program has been viewed increases, then the weekly rank of the program will be higher (closer to 1)."
   ]
  },
  {
   "cell_type": "markdown",
   "id": "f8500233",
   "metadata": {},
   "source": [
    "### This script contains the following:\n",
    "#### 1. Importing libraries and data\n",
    "#### 2. Data cleaning\n",
    "#### 3. Data prep for regression analysis\n",
    "#### 4. Regression analysis"
   ]
  },
  {
   "cell_type": "markdown",
   "id": "a5d8254a",
   "metadata": {},
   "source": [
    "### 01. Import Libraries"
   ]
  },
  {
   "cell_type": "code",
   "execution_count": 1,
   "id": "889eee5e",
   "metadata": {},
   "outputs": [],
   "source": [
    "#import libraries\n",
    "import pandas as pd\n",
    "import numpy as np\n",
    "import seaborn as sns\n",
    "import matplotlib\n",
    "import matplotlib.pyplot as plt\n",
    "import os\n",
    "import sklearn\n",
    "from sklearn.model_selection import train_test_split\n",
    "from sklearn.linear_model import LinearRegression\n",
    "from sklearn.metrics import mean_squared_error, r2_score"
   ]
  },
  {
   "cell_type": "code",
   "execution_count": 2,
   "id": "eca0bed8",
   "metadata": {},
   "outputs": [],
   "source": [
    "# graphs will show without having to call them\n",
    "%matplotlib inline"
   ]
  },
  {
   "cell_type": "markdown",
   "id": "dc288133",
   "metadata": {},
   "source": [
    "### Import Data"
   ]
  },
  {
   "cell_type": "code",
   "execution_count": 3,
   "id": "aa6f2c01",
   "metadata": {},
   "outputs": [],
   "source": [
    "#create a path\n",
    "path = r'C:\\Users\\marci\\OneDrive\\Desktop\\Career Foundary'"
   ]
  },
  {
   "cell_type": "code",
   "execution_count": 5,
   "id": "8bf2ef20",
   "metadata": {},
   "outputs": [],
   "source": [
    "#import data\n",
    "df = pd.read_csv(os.path.join(path, 'Netflix', '02 Data', 'Original Data', 'global.csv'))"
   ]
  },
  {
   "cell_type": "markdown",
   "id": "949b1174",
   "metadata": {},
   "source": [
    "### 02. Data Cleaning"
   ]
  },
  {
   "cell_type": "code",
   "execution_count": 6,
   "id": "e3c07a85",
   "metadata": {},
   "outputs": [
    {
     "data": {
      "text/plain": [
       "Index(['week', 'category', 'weekly_rank', 'show_title', 'season_title',\n",
       "       'weekly_hours_viewed', 'runtime', 'weekly_views',\n",
       "       'cumulative_weeks_in_top_10', 'is_staggered_launch',\n",
       "       'episode_launch_details'],\n",
       "      dtype='object')"
      ]
     },
     "execution_count": 6,
     "metadata": {},
     "output_type": "execute_result"
    }
   ],
   "source": [
    "#view the columns\n",
    "df.columns"
   ]
  },
  {
   "cell_type": "code",
   "execution_count": 10,
   "id": "1761ee1c",
   "metadata": {},
   "outputs": [
    {
     "data": {
      "text/html": [
       "<div>\n",
       "<style scoped>\n",
       "    .dataframe tbody tr th:only-of-type {\n",
       "        vertical-align: middle;\n",
       "    }\n",
       "\n",
       "    .dataframe tbody tr th {\n",
       "        vertical-align: top;\n",
       "    }\n",
       "\n",
       "    .dataframe thead th {\n",
       "        text-align: right;\n",
       "    }\n",
       "</style>\n",
       "<table border=\"1\" class=\"dataframe\">\n",
       "  <thead>\n",
       "    <tr style=\"text-align: right;\">\n",
       "      <th></th>\n",
       "      <th>week</th>\n",
       "      <th>category</th>\n",
       "      <th>weekly_rank</th>\n",
       "      <th>show_title</th>\n",
       "      <th>season_title</th>\n",
       "      <th>weekly_hours_viewed</th>\n",
       "      <th>runtime</th>\n",
       "      <th>weekly_views</th>\n",
       "      <th>cumulative_weeks_in_top_10</th>\n",
       "      <th>is_staggered_launch</th>\n",
       "      <th>episode_launch_details</th>\n",
       "    </tr>\n",
       "  </thead>\n",
       "  <tbody>\n",
       "    <tr>\n",
       "      <th>0</th>\n",
       "      <td>2024-03-17</td>\n",
       "      <td>Films (English)</td>\n",
       "      <td>1</td>\n",
       "      <td>Damsel</td>\n",
       "      <td>NaN</td>\n",
       "      <td>93200000</td>\n",
       "      <td>1.8333</td>\n",
       "      <td>50800000.0</td>\n",
       "      <td>2</td>\n",
       "      <td>False</td>\n",
       "      <td>NaN</td>\n",
       "    </tr>\n",
       "    <tr>\n",
       "      <th>1</th>\n",
       "      <td>2024-03-17</td>\n",
       "      <td>Films (English)</td>\n",
       "      <td>2</td>\n",
       "      <td>Irish Wish</td>\n",
       "      <td>NaN</td>\n",
       "      <td>30600000</td>\n",
       "      <td>1.5667</td>\n",
       "      <td>19500000.0</td>\n",
       "      <td>1</td>\n",
       "      <td>False</td>\n",
       "      <td>NaN</td>\n",
       "    </tr>\n",
       "    <tr>\n",
       "      <th>2</th>\n",
       "      <td>2024-03-17</td>\n",
       "      <td>Films (English)</td>\n",
       "      <td>3</td>\n",
       "      <td>Alone</td>\n",
       "      <td>NaN</td>\n",
       "      <td>5900000</td>\n",
       "      <td>1.6333</td>\n",
       "      <td>3600000.0</td>\n",
       "      <td>1</td>\n",
       "      <td>False</td>\n",
       "      <td>NaN</td>\n",
       "    </tr>\n",
       "    <tr>\n",
       "      <th>3</th>\n",
       "      <td>2024-03-17</td>\n",
       "      <td>Films (English)</td>\n",
       "      <td>4</td>\n",
       "      <td>Code 8 Part II</td>\n",
       "      <td>NaN</td>\n",
       "      <td>6000000</td>\n",
       "      <td>1.6667</td>\n",
       "      <td>3600000.0</td>\n",
       "      <td>3</td>\n",
       "      <td>False</td>\n",
       "      <td>NaN</td>\n",
       "    </tr>\n",
       "    <tr>\n",
       "      <th>4</th>\n",
       "      <td>2024-03-17</td>\n",
       "      <td>Films (English)</td>\n",
       "      <td>5</td>\n",
       "      <td>Noah</td>\n",
       "      <td>NaN</td>\n",
       "      <td>8100000</td>\n",
       "      <td>2.2833</td>\n",
       "      <td>3500000.0</td>\n",
       "      <td>5</td>\n",
       "      <td>False</td>\n",
       "      <td>NaN</td>\n",
       "    </tr>\n",
       "  </tbody>\n",
       "</table>\n",
       "</div>"
      ],
      "text/plain": [
       "         week         category  weekly_rank      show_title season_title  \\\n",
       "0  2024-03-17  Films (English)            1          Damsel          NaN   \n",
       "1  2024-03-17  Films (English)            2      Irish Wish          NaN   \n",
       "2  2024-03-17  Films (English)            3           Alone          NaN   \n",
       "3  2024-03-17  Films (English)            4  Code 8 Part II          NaN   \n",
       "4  2024-03-17  Films (English)            5            Noah          NaN   \n",
       "\n",
       "   weekly_hours_viewed  runtime  weekly_views  cumulative_weeks_in_top_10  \\\n",
       "0             93200000   1.8333    50800000.0                           2   \n",
       "1             30600000   1.5667    19500000.0                           1   \n",
       "2              5900000   1.6333     3600000.0                           1   \n",
       "3              6000000   1.6667     3600000.0                           3   \n",
       "4              8100000   2.2833     3500000.0                           5   \n",
       "\n",
       "   is_staggered_launch episode_launch_details  \n",
       "0                False                    NaN  \n",
       "1                False                    NaN  \n",
       "2                False                    NaN  \n",
       "3                False                    NaN  \n",
       "4                False                    NaN  "
      ]
     },
     "execution_count": 10,
     "metadata": {},
     "output_type": "execute_result"
    }
   ],
   "source": [
    "#view the data\n",
    "df.head()"
   ]
  },
  {
   "cell_type": "code",
   "execution_count": 9,
   "id": "08fcc372",
   "metadata": {},
   "outputs": [
    {
     "data": {
      "text/plain": [
       "(5680, 11)"
      ]
     },
     "execution_count": 9,
     "metadata": {},
     "output_type": "execute_result"
    }
   ],
   "source": [
    "#check the shape\n",
    "df.shape"
   ]
  },
  {
   "cell_type": "code",
   "execution_count": 11,
   "id": "d275b848",
   "metadata": {},
   "outputs": [],
   "source": [
    "#Rename the columns\n",
    "df.rename(columns = {'cumulative_weeks_in_top_10' : 'weeks_top_10', 'is_staggered_launch': 'staggered_launch'}, inplace = True)"
   ]
  },
  {
   "cell_type": "markdown",
   "id": "00040b3b",
   "metadata": {},
   "source": [
    "#### Missing Values"
   ]
  },
  {
   "cell_type": "code",
   "execution_count": 12,
   "id": "73962389",
   "metadata": {},
   "outputs": [
    {
     "data": {
      "text/plain": [
       "week                         0\n",
       "category                     0\n",
       "weekly_rank                  0\n",
       "show_title                   0\n",
       "season_title              2945\n",
       "weekly_hours_viewed          0\n",
       "runtime                   4080\n",
       "weekly_views              4080\n",
       "weeks_top_10                 0\n",
       "staggered_launch             0\n",
       "episode_launch_details    5614\n",
       "dtype: int64"
      ]
     },
     "execution_count": 12,
     "metadata": {},
     "output_type": "execute_result"
    }
   ],
   "source": [
    "#Check for any missing values\n",
    "df.isnull().sum()"
   ]
  },
  {
   "cell_type": "markdown",
   "id": "47504cf3",
   "metadata": {},
   "source": [
    "There are a lot of missing vlaues in the 'runtime' and 'weekly_views' columns which will prevent me from using those columns in my analysis. The data was not included in the data before the week of 6/11/23. "
   ]
  },
  {
   "cell_type": "markdown",
   "id": "268a1a24",
   "metadata": {},
   "source": [
    "#### Duplicates check"
   ]
  },
  {
   "cell_type": "code",
   "execution_count": 13,
   "id": "2f8d5b1a",
   "metadata": {},
   "outputs": [],
   "source": [
    "#check for duplicates\n",
    "dups = df.duplicated()"
   ]
  },
  {
   "cell_type": "code",
   "execution_count": 14,
   "id": "8657a395",
   "metadata": {},
   "outputs": [
    {
     "data": {
      "text/plain": [
       "(5680,)"
      ]
     },
     "execution_count": 14,
     "metadata": {},
     "output_type": "execute_result"
    }
   ],
   "source": [
    "dups.shape"
   ]
  },
  {
   "cell_type": "code",
   "execution_count": 15,
   "id": "b84095c4",
   "metadata": {},
   "outputs": [],
   "source": [
    "#no dups"
   ]
  },
  {
   "cell_type": "markdown",
   "id": "57638390",
   "metadata": {},
   "source": [
    "#### Extreme values check"
   ]
  },
  {
   "cell_type": "code",
   "execution_count": 17,
   "id": "3a62717c",
   "metadata": {},
   "outputs": [
    {
     "name": "stderr",
     "output_type": "stream",
     "text": [
      "C:\\Users\\marci\\AppData\\Local\\Temp\\ipykernel_9116\\869422417.py:2: UserWarning: \n",
      "\n",
      "`distplot` is a deprecated function and will be removed in seaborn v0.14.0.\n",
      "\n",
      "Please adapt your code to use either `displot` (a figure-level function with\n",
      "similar flexibility) or `histplot` (an axes-level function for histograms).\n",
      "\n",
      "For a guide to updating your code to use the new functions, please see\n",
      "https://gist.github.com/mwaskom/de44147ed2974457ad6372750bbe5751\n",
      "\n",
      "  sns.distplot(df['weekly_rank'], bins=25)\n",
      "C:\\Users\\marci\\anaconda3\\Lib\\site-packages\\seaborn\\_oldcore.py:1119: FutureWarning: use_inf_as_na option is deprecated and will be removed in a future version. Convert inf values to NaN before operating instead.\n",
      "  with pd.option_context('mode.use_inf_as_na', True):\n"
     ]
    },
    {
     "data": {
      "text/plain": [
       "<Axes: xlabel='weekly_rank', ylabel='Density'>"
      ]
     },
     "execution_count": 17,
     "metadata": {},
     "output_type": "execute_result"
    },
    {
     "data": {
      "image/png": "[encoded data removed]",
      "text/plain": [
       "<Figure size 640x480 with 1 Axes>"
      ]
     },
     "metadata": {},
     "output_type": "display_data"
    }
   ],
   "source": [
    "#Show extreme values\n",
    "sns.distplot(df['weekly_rank'], bins=25)"
   ]
  },
  {
   "cell_type": "code",
   "execution_count": 18,
   "id": "9910a635",
   "metadata": {},
   "outputs": [
    {
     "data": {
      "text/plain": [
       "5.5"
      ]
     },
     "execution_count": 18,
     "metadata": {},
     "output_type": "execute_result"
    }
   ],
   "source": [
    "#check the mean\n",
    "df['weekly_rank'].mean()"
   ]
  },
  {
   "cell_type": "code",
   "execution_count": 19,
   "id": "a3a5a820",
   "metadata": {},
   "outputs": [
    {
     "data": {
      "text/plain": [
       "5.5"
      ]
     },
     "execution_count": 19,
     "metadata": {},
     "output_type": "execute_result"
    }
   ],
   "source": [
    "#check the median\n",
    "df['weekly_rank'].median()"
   ]
  },
  {
   "cell_type": "code",
   "execution_count": 20,
   "id": "c45f5e4b",
   "metadata": {},
   "outputs": [
    {
     "data": {
      "text/plain": [
       "10"
      ]
     },
     "execution_count": 20,
     "metadata": {},
     "output_type": "execute_result"
    }
   ],
   "source": [
    "#check the max\n",
    "df['weekly_rank'].max()"
   ]
  },
  {
   "cell_type": "markdown",
   "id": "3d9f25df",
   "metadata": {},
   "source": [
    "### 03. Data prep for regression analysis"
   ]
  },
  {
   "cell_type": "code",
   "execution_count": 22,
   "id": "a05fd1da",
   "metadata": {},
   "outputs": [
    {
     "data": {
      "image/png": "[encoded data removed]",
      "text/plain": [
       "<Figure size 640x480 with 1 Axes>"
      ]
     },
     "metadata": {},
     "output_type": "display_data"
    }
   ],
   "source": [
    "# Create a scatterplot.\n",
    "df.plot(x = 'weekly_rank', y='weekly_hours_viewed',style='o')\n",
    "plt.title('weekly hours viewed vs weekly rank')\n",
    "plt.xlabel('weekly_rank')\n",
    "plt.ylabel('weekly_hours_viewed')\n",
    "plt.show()"
   ]
  },
  {
   "cell_type": "code",
   "execution_count": 23,
   "id": "7bf8f69a",
   "metadata": {},
   "outputs": [],
   "source": [
    "# Reshape the variables into NumPy\n",
    "X = df['weekly_rank'].values.reshape(-1,1)\n",
    "y = df['weekly_hours_viewed'].values.reshape(-1,1)"
   ]
  },
  {
   "cell_type": "code",
   "execution_count": 25,
   "id": "e5f7c213",
   "metadata": {},
   "outputs": [
    {
     "data": {
      "text/plain": [
       "array([[ 1],\n",
       "       [ 2],\n",
       "       [ 3],\n",
       "       ...,\n",
       "       [ 8],\n",
       "       [ 9],\n",
       "       [10]], dtype=int64)"
      ]
     },
     "execution_count": 25,
     "metadata": {},
     "output_type": "execute_result"
    }
   ],
   "source": [
    "X"
   ]
  },
  {
   "cell_type": "code",
   "execution_count": 26,
   "id": "0cd13efe",
   "metadata": {},
   "outputs": [
    {
     "data": {
      "text/plain": [
       "array([[93200000],\n",
       "       [30600000],\n",
       "       [ 5900000],\n",
       "       ...,\n",
       "       [10140000],\n",
       "       [ 9190000],\n",
       "       [ 9140000]], dtype=int64)"
      ]
     },
     "execution_count": 26,
     "metadata": {},
     "output_type": "execute_result"
    }
   ],
   "source": [
    "y"
   ]
  },
  {
   "cell_type": "code",
   "execution_count": 27,
   "id": "b2357548",
   "metadata": {},
   "outputs": [],
   "source": [
    "# Split data into a training set and a test set.\n",
    "X_train, X_test, y_train, y_test = train_test_split(X, y, test_size=0.3, random_state=0)"
   ]
  },
  {
   "cell_type": "markdown",
   "id": "5394861f",
   "metadata": {},
   "source": [
    "### 04. Regression Analysis"
   ]
  },
  {
   "cell_type": "code",
   "execution_count": 30,
   "id": "837acc96",
   "metadata": {},
   "outputs": [],
   "source": [
    "# Create a regression object.\n",
    "regression = LinearRegression()"
   ]
  },
  {
   "cell_type": "code",
   "execution_count": 32,
   "id": "37c2ca1f",
   "metadata": {},
   "outputs": [
    {
     "data": {
      "text/html": [
       "<style>#sk-container-id-1 {color: black;}#sk-container-id-1 pre{padding: 0;}#sk-container-id-1 div.sk-toggleable {background-color: white;}#sk-container-id-1 label.sk-toggleable__label {cursor: pointer;display: block;width: 100%;margin-bottom: 0;padding: 0.3em;box-sizing: border-box;text-align: center;}#sk-container-id-1 label.sk-toggleable__label-arrow:before {content: \"▸\";float: left;margin-right: 0.25em;color: #696969;}#sk-container-id-1 label.sk-toggleable__label-arrow:hover:before {color: black;}#sk-container-id-1 div.sk-estimator:hover label.sk-toggleable__label-arrow:before {color: black;}#sk-container-id-1 div.sk-toggleable__content {max-height: 0;max-width: 0;overflow: hidden;text-align: left;background-color: #f0f8ff;}#sk-container-id-1 div.sk-toggleable__content pre {margin: 0.2em;color: black;border-radius: 0.25em;background-color: #f0f8ff;}#sk-container-id-1 input.sk-toggleable__control:checked~div.sk-toggleable__content {max-height: 200px;max-width: 100%;overflow: auto;}#sk-container-id-1 input.sk-toggleable__control:checked~label.sk-toggleable__label-arrow:before {content: \"▾\";}#sk-container-id-1 div.sk-estimator input.sk-toggleable__control:checked~label.sk-toggleable__label {background-color: #d4ebff;}#sk-container-id-1 div.sk-label input.sk-toggleable__control:checked~label.sk-toggleable__label {background-color: #d4ebff;}#sk-container-id-1 input.sk-hidden--visually {border: 0;clip: rect(1px 1px 1px 1px);clip: rect(1px, 1px, 1px, 1px);height: 1px;margin: -1px;overflow: hidden;padding: 0;position: absolute;width: 1px;}#sk-container-id-1 div.sk-estimator {font-family: monospace;background-color: #f0f8ff;border: 1px dotted black;border-radius: 0.25em;box-sizing: border-box;margin-bottom: 0.5em;}#sk-container-id-1 div.sk-estimator:hover {background-color: #d4ebff;}#sk-container-id-1 div.sk-parallel-item::after {content: \"\";width: 100%;border-bottom: 1px solid gray;flex-grow: 1;}#sk-container-id-1 div.sk-label:hover label.sk-toggleable__label {background-color: #d4ebff;}#sk-container-id-1 div.sk-serial::before {content: \"\";position: absolute;border-left: 1px solid gray;box-sizing: border-box;top: 0;bottom: 0;left: 50%;z-index: 0;}#sk-container-id-1 div.sk-serial {display: flex;flex-direction: column;align-items: center;background-color: white;padding-right: 0.2em;padding-left: 0.2em;position: relative;}#sk-container-id-1 div.sk-item {position: relative;z-index: 1;}#sk-container-id-1 div.sk-parallel {display: flex;align-items: stretch;justify-content: center;background-color: white;position: relative;}#sk-container-id-1 div.sk-item::before, #sk-container-id-1 div.sk-parallel-item::before {content: \"\";position: absolute;border-left: 1px solid gray;box-sizing: border-box;top: 0;bottom: 0;left: 50%;z-index: -1;}#sk-container-id-1 div.sk-parallel-item {display: flex;flex-direction: column;z-index: 1;position: relative;background-color: white;}#sk-container-id-1 div.sk-parallel-item:first-child::after {align-self: flex-end;width: 50%;}#sk-container-id-1 div.sk-parallel-item:last-child::after {align-self: flex-start;width: 50%;}#sk-container-id-1 div.sk-parallel-item:only-child::after {width: 0;}#sk-container-id-1 div.sk-dashed-wrapped {border: 1px dashed gray;margin: 0 0.4em 0.5em 0.4em;box-sizing: border-box;padding-bottom: 0.4em;background-color: white;}#sk-container-id-1 div.sk-label label {font-family: monospace;font-weight: bold;display: inline-block;line-height: 1.2em;}#sk-container-id-1 div.sk-label-container {text-align: center;}#sk-container-id-1 div.sk-container {/* jupyter's `normalize.less` sets `[hidden] { display: none; }` but bootstrap.min.css set `[hidden] { display: none !important; }` so we also need the `!important` here to be able to override the default hidden behavior on the sphinx rendered scikit-learn.org. See: https://github.com/scikit-learn/scikit-learn/issues/21755 */display: inline-block !important;position: relative;}#sk-container-id-1 div.sk-text-repr-fallback {display: none;}</style><div id=\"sk-container-id-1\" class=\"sk-top-container\"><div class=\"sk-text-repr-fallback\"><pre>LinearRegression()</pre><b>In a Jupyter environment, please rerun this cell to show the HTML representation or trust the notebook. <br />On GitHub, the HTML representation is unable to render, please try loading this page with nbviewer.org.</b></div><div class=\"sk-container\" hidden><div class=\"sk-item\"><div class=\"sk-estimator sk-toggleable\"><input class=\"sk-toggleable__control sk-hidden--visually\" id=\"sk-estimator-id-1\" type=\"checkbox\" checked><label for=\"sk-estimator-id-1\" class=\"sk-toggleable__label sk-toggleable__label-arrow\">LinearRegression</label><div class=\"sk-toggleable__content\"><pre>LinearRegression()</pre></div></div></div></div></div>"
      ],
      "text/plain": [
       "LinearRegression()"
      ]
     },
     "execution_count": 32,
     "metadata": {},
     "output_type": "execute_result"
    }
   ],
   "source": [
    "# Fit the regression object onto the training set\n",
    "regression.fit(X_train, y_train)"
   ]
  },
  {
   "cell_type": "code",
   "execution_count": 33,
   "id": "4aab2f7d",
   "metadata": {},
   "outputs": [],
   "source": [
    "#Predict the values of y using x\n",
    "\n",
    "y_predicted = regression.predict(X_test)"
   ]
  },
  {
   "cell_type": "code",
   "execution_count": 34,
   "id": "fe68b621",
   "metadata": {},
   "outputs": [
    {
     "data": {
      "image/png": "[encoded data removed]",
      "text/plain": [
       "<Figure size 640x480 with 1 Axes>"
      ]
     },
     "metadata": {},
     "output_type": "display_data"
    }
   ],
   "source": [
    "# Create a plot that shows the regression line from the model on the test set.\n",
    "plot_test = plt\n",
    "plot_test.scatter(X_test, y_test, color='gray', s = 15)\n",
    "plot_test.plot(X_test, y_predicted, color='red', linewidth =3)\n",
    "plot_test.title('Weekly Hours Viewed vs Weekly Rank (Test set)')\n",
    "plot_test.xlabel('weekly_rank')\n",
    "plot_test.ylabel('weekly_hours_viewed')\n",
    "plot_test.show()"
   ]
  },
  {
   "cell_type": "code",
   "execution_count": 35,
   "id": "1330f246",
   "metadata": {},
   "outputs": [],
   "source": [
    "# Create objects that contain the model summary statistics.\n",
    "rmse = mean_squared_error(y_test, y_predicted)\n",
    "r2 = r2_score(y_test, y_predicted)"
   ]
  },
  {
   "cell_type": "code",
   "execution_count": 36,
   "id": "f5e060b0",
   "metadata": {},
   "outputs": [
    {
     "name": "stdout",
     "output_type": "stream",
     "text": [
      "Slope: [[-4304723.77832068]]\n",
      "Mean squared error:  722172073738123.0\n",
      "R2 score:  0.18733510643500806\n"
     ]
    }
   ],
   "source": [
    "# Print the model summary statistics.\n",
    "print('Slope:' ,regression.coef_)\n",
    "print('Mean squared error: ', rmse)\n",
    "print('R2 score: ', r2)"
   ]
  },
  {
   "cell_type": "code",
   "execution_count": 37,
   "id": "85453baf",
   "metadata": {},
   "outputs": [
    {
     "data": {
      "text/plain": [
       "array([[16424654.17841626],\n",
       "       [ -794240.93486647],\n",
       "       [ 7815206.6217749 ],\n",
       "       ...,\n",
       "       [20729377.95673694],\n",
       "       [37948273.07001968],\n",
       "       [25034101.73505763]])"
      ]
     },
     "execution_count": 37,
     "metadata": {},
     "output_type": "execute_result"
    }
   ],
   "source": [
    "y_predicted"
   ]
  },
  {
   "cell_type": "code",
   "execution_count": 38,
   "id": "ae4d6546",
   "metadata": {
    "scrolled": true
   },
   "outputs": [
    {
     "data": {
      "text/html": [
       "<div>\n",
       "<style scoped>\n",
       "    .dataframe tbody tr th:only-of-type {\n",
       "        vertical-align: middle;\n",
       "    }\n",
       "\n",
       "    .dataframe tbody tr th {\n",
       "        vertical-align: top;\n",
       "    }\n",
       "\n",
       "    .dataframe thead th {\n",
       "        text-align: right;\n",
       "    }\n",
       "</style>\n",
       "<table border=\"1\" class=\"dataframe\">\n",
       "  <thead>\n",
       "    <tr style=\"text-align: right;\">\n",
       "      <th></th>\n",
       "      <th>Actual</th>\n",
       "      <th>Predicted</th>\n",
       "    </tr>\n",
       "  </thead>\n",
       "  <tbody>\n",
       "    <tr>\n",
       "      <th>0</th>\n",
       "      <td>8930000</td>\n",
       "      <td>1.642465e+07</td>\n",
       "    </tr>\n",
       "    <tr>\n",
       "      <th>1</th>\n",
       "      <td>15290000</td>\n",
       "      <td>-7.942409e+05</td>\n",
       "    </tr>\n",
       "    <tr>\n",
       "      <th>2</th>\n",
       "      <td>10360000</td>\n",
       "      <td>7.815207e+06</td>\n",
       "    </tr>\n",
       "    <tr>\n",
       "      <th>3</th>\n",
       "      <td>9300000</td>\n",
       "      <td>-7.942409e+05</td>\n",
       "    </tr>\n",
       "    <tr>\n",
       "      <th>4</th>\n",
       "      <td>6380000</td>\n",
       "      <td>3.510483e+06</td>\n",
       "    </tr>\n",
       "    <tr>\n",
       "      <th>5</th>\n",
       "      <td>18100000</td>\n",
       "      <td>2.072938e+07</td>\n",
       "    </tr>\n",
       "    <tr>\n",
       "      <th>6</th>\n",
       "      <td>4300000</td>\n",
       "      <td>2.933883e+07</td>\n",
       "    </tr>\n",
       "    <tr>\n",
       "      <th>7</th>\n",
       "      <td>90100000</td>\n",
       "      <td>3.794827e+07</td>\n",
       "    </tr>\n",
       "    <tr>\n",
       "      <th>8</th>\n",
       "      <td>9920000</td>\n",
       "      <td>2.072938e+07</td>\n",
       "    </tr>\n",
       "    <tr>\n",
       "      <th>9</th>\n",
       "      <td>47600000</td>\n",
       "      <td>3.794827e+07</td>\n",
       "    </tr>\n",
       "    <tr>\n",
       "      <th>10</th>\n",
       "      <td>53810000</td>\n",
       "      <td>3.794827e+07</td>\n",
       "    </tr>\n",
       "    <tr>\n",
       "      <th>11</th>\n",
       "      <td>3500000</td>\n",
       "      <td>-7.942409e+05</td>\n",
       "    </tr>\n",
       "    <tr>\n",
       "      <th>12</th>\n",
       "      <td>6350000</td>\n",
       "      <td>1.211993e+07</td>\n",
       "    </tr>\n",
       "    <tr>\n",
       "      <th>13</th>\n",
       "      <td>14000000</td>\n",
       "      <td>2.503410e+07</td>\n",
       "    </tr>\n",
       "    <tr>\n",
       "      <th>14</th>\n",
       "      <td>4960000</td>\n",
       "      <td>3.510483e+06</td>\n",
       "    </tr>\n",
       "    <tr>\n",
       "      <th>15</th>\n",
       "      <td>9640000</td>\n",
       "      <td>7.815207e+06</td>\n",
       "    </tr>\n",
       "    <tr>\n",
       "      <th>16</th>\n",
       "      <td>6700000</td>\n",
       "      <td>1.211993e+07</td>\n",
       "    </tr>\n",
       "    <tr>\n",
       "      <th>17</th>\n",
       "      <td>12990000</td>\n",
       "      <td>1.642465e+07</td>\n",
       "    </tr>\n",
       "    <tr>\n",
       "      <th>18</th>\n",
       "      <td>23200000</td>\n",
       "      <td>3.794827e+07</td>\n",
       "    </tr>\n",
       "    <tr>\n",
       "      <th>19</th>\n",
       "      <td>18950000</td>\n",
       "      <td>3.510483e+06</td>\n",
       "    </tr>\n",
       "    <tr>\n",
       "      <th>20</th>\n",
       "      <td>106200000</td>\n",
       "      <td>3.794827e+07</td>\n",
       "    </tr>\n",
       "    <tr>\n",
       "      <th>21</th>\n",
       "      <td>11990000</td>\n",
       "      <td>1.211993e+07</td>\n",
       "    </tr>\n",
       "    <tr>\n",
       "      <th>22</th>\n",
       "      <td>4410000</td>\n",
       "      <td>2.503410e+07</td>\n",
       "    </tr>\n",
       "    <tr>\n",
       "      <th>23</th>\n",
       "      <td>2600000</td>\n",
       "      <td>2.503410e+07</td>\n",
       "    </tr>\n",
       "    <tr>\n",
       "      <th>24</th>\n",
       "      <td>11700000</td>\n",
       "      <td>3.510483e+06</td>\n",
       "    </tr>\n",
       "    <tr>\n",
       "      <th>25</th>\n",
       "      <td>53890000</td>\n",
       "      <td>3.794827e+07</td>\n",
       "    </tr>\n",
       "    <tr>\n",
       "      <th>26</th>\n",
       "      <td>6550000</td>\n",
       "      <td>2.503410e+07</td>\n",
       "    </tr>\n",
       "    <tr>\n",
       "      <th>27</th>\n",
       "      <td>196200000</td>\n",
       "      <td>3.794827e+07</td>\n",
       "    </tr>\n",
       "    <tr>\n",
       "      <th>28</th>\n",
       "      <td>5840000</td>\n",
       "      <td>1.211993e+07</td>\n",
       "    </tr>\n",
       "    <tr>\n",
       "      <th>29</th>\n",
       "      <td>5000000</td>\n",
       "      <td>2.072938e+07</td>\n",
       "    </tr>\n",
       "  </tbody>\n",
       "</table>\n",
       "</div>"
      ],
      "text/plain": [
       "       Actual     Predicted\n",
       "0     8930000  1.642465e+07\n",
       "1    15290000 -7.942409e+05\n",
       "2    10360000  7.815207e+06\n",
       "3     9300000 -7.942409e+05\n",
       "4     6380000  3.510483e+06\n",
       "5    18100000  2.072938e+07\n",
       "6     4300000  2.933883e+07\n",
       "7    90100000  3.794827e+07\n",
       "8     9920000  2.072938e+07\n",
       "9    47600000  3.794827e+07\n",
       "10   53810000  3.794827e+07\n",
       "11    3500000 -7.942409e+05\n",
       "12    6350000  1.211993e+07\n",
       "13   14000000  2.503410e+07\n",
       "14    4960000  3.510483e+06\n",
       "15    9640000  7.815207e+06\n",
       "16    6700000  1.211993e+07\n",
       "17   12990000  1.642465e+07\n",
       "18   23200000  3.794827e+07\n",
       "19   18950000  3.510483e+06\n",
       "20  106200000  3.794827e+07\n",
       "21   11990000  1.211993e+07\n",
       "22    4410000  2.503410e+07\n",
       "23    2600000  2.503410e+07\n",
       "24   11700000  3.510483e+06\n",
       "25   53890000  3.794827e+07\n",
       "26    6550000  2.503410e+07\n",
       "27  196200000  3.794827e+07\n",
       "28    5840000  1.211993e+07\n",
       "29    5000000  2.072938e+07"
      ]
     },
     "execution_count": 38,
     "metadata": {},
     "output_type": "execute_result"
    }
   ],
   "source": [
    "# Create a dataframe comparing the actual and predicted values of y.\n",
    "data = pd.DataFrame({'Actual': y_test.flatten(), 'Predicted': y_predicted.flatten()})\n",
    "data.head(30)"
   ]
  },
  {
   "cell_type": "markdown",
   "id": "3f5cb803",
   "metadata": {},
   "source": [
    "#### Compare how the regression fits the training test"
   ]
  },
  {
   "cell_type": "code",
   "execution_count": 39,
   "id": "58af4be3",
   "metadata": {},
   "outputs": [],
   "source": [
    "# This is predicting X_train\n",
    "y_predicted_train = regression.predict(X_train)"
   ]
  },
  {
   "cell_type": "code",
   "execution_count": 40,
   "id": "66a1053a",
   "metadata": {},
   "outputs": [],
   "source": [
    "rmse = mean_squared_error(y_train, y_predicted_train)\n",
    "r2 = r2_score(y_train, y_predicted_train)"
   ]
  },
  {
   "cell_type": "code",
   "execution_count": 41,
   "id": "b77a7081",
   "metadata": {},
   "outputs": [
    {
     "name": "stdout",
     "output_type": "stream",
     "text": [
      "Slope: [[-4304723.77832068]]\n",
      "Mean squared error:  483649472661795.1\n",
      "R2 score:  0.2399284332537026\n"
     ]
    }
   ],
   "source": [
    "print('Slope:' ,regression.coef_)\n",
    "print('Mean squared error: ', rmse)\n",
    "print('R2 score: ', r2)"
   ]
  },
  {
   "cell_type": "code",
   "execution_count": 42,
   "id": "7e49c462",
   "metadata": {},
   "outputs": [
    {
     "data": {
      "image/png": "[encoded data removed]",
      "text/plain": [
       "<Figure size 640x480 with 1 Axes>"
      ]
     },
     "metadata": {},
     "output_type": "display_data"
    }
   ],
   "source": [
    "# Visualizing the training set results.\n",
    "plot_test = plt\n",
    "plot_test.scatter(X_train, y_train, color='green', s = 15)\n",
    "plot_test.plot(X_train, y_predicted_train, color='red', linewidth =3)\n",
    "plot_test.title('Weekly Hours Viewed vs Weekly Rank (Train set)')\n",
    "plot_test.xlabel('weekly_rank')\n",
    "plot_test.ylabel('weekly_hours_viewed')\n",
    "plot_test.show()"
   ]
  },
  {
   "cell_type": "markdown",
   "id": "5967dede",
   "metadata": {},
   "source": [
    "Based off the results of the test, I do not think a linear regression is the best test for this data. The MSE value is extremely high and does indicate if the more weekly hours a program is viewed if it will be in the higher ranking for that week. The R2 value shows this model is not a great fit for this data as it is close to 0. The training set performed better than the test set but neither did very well. "
   ]
  },
  {
   "cell_type": "code",
   "execution_count": null,
   "id": "dd283193",
   "metadata": {},
   "outputs": [],
   "source": []
  }
 ],
 "metadata": {
  "kernelspec": {
   "display_name": "Python 3 (ipykernel)",
   "language": "python",
   "name": "python3"
  },
  "language_info": {
   "codemirror_mode": {
    "name": "ipython",
    "version": 3
   },
   "file_extension": ".py",
   "mimetype": "text/x-python",
   "name": "python",
   "nbconvert_exporter": "python",
   "pygments_lexer": "ipython3",
   "version": "3.11.5"
  }
 },
 "nbformat": 4,
 "nbformat_minor": 5
}
